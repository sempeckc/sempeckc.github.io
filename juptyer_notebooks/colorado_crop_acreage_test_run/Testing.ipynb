{
 "cells": [
  {
   "cell_type": "raw",
   "metadata": {},
   "source": [
    "--- Exploring the use of a Jupyter Notebook ---"
   ]
  },
  {
   "cell_type": "code",
   "execution_count": 36,
   "metadata": {},
   "outputs": [],
   "source": [
    "import pandas as pd\n",
    "import seaborn as sns\n",
    "%matplotlib inline \n",
    "#Needs to be in here to show graphs for seaborn"
   ]
  },
  {
   "cell_type": "markdown",
   "metadata": {},
   "source": [
    "$$y=mx+b$$ LaTex nomeclature for equations"
   ]
  },
  {
   "cell_type": "raw",
   "metadata": {},
   "source": [
    "Okie doke, so let's see what we can do with some data. We're going to look at some public data linked from Data.gov, called CropScape, which shows the acreage of various agricultural vegetation grown in areas all around the US. I specifically localized the dataset to Colorado, and gathered all the crop acreage data for each year from 2008 to 2016.\n",
    "\n",
    "Let's start off by loading one of them to pandas and seeing what it looks like."
   ]
  },
  {
   "cell_type": "code",
   "execution_count": 17,
   "metadata": {},
   "outputs": [
    {
     "data": {
      "text/html": [
       "<div>\n",
       "<style>\n",
       "    .dataframe thead tr:only-child th {\n",
       "        text-align: right;\n",
       "    }\n",
       "\n",
       "    .dataframe thead th {\n",
       "        text-align: left;\n",
       "    }\n",
       "\n",
       "    .dataframe tbody tr th {\n",
       "        vertical-align: top;\n",
       "    }\n",
       "</style>\n",
       "<table border=\"1\" class=\"dataframe\">\n",
       "  <thead>\n",
       "    <tr style=\"text-align: right;\">\n",
       "      <th></th>\n",
       "      <th>Value</th>\n",
       "      <th>Category</th>\n",
       "      <th>Count</th>\n",
       "      <th>Acreage</th>\n",
       "    </tr>\n",
       "  </thead>\n",
       "  <tbody>\n",
       "    <tr>\n",
       "      <th>0</th>\n",
       "      <td>176</td>\n",
       "      <td>Grass/Pasture</td>\n",
       "      <td>32163277</td>\n",
       "      <td>24924024.2</td>\n",
       "    </tr>\n",
       "    <tr>\n",
       "      <th>1</th>\n",
       "      <td>142</td>\n",
       "      <td>Evergreen Forest</td>\n",
       "      <td>19275611</td>\n",
       "      <td>14937091.0</td>\n",
       "    </tr>\n",
       "    <tr>\n",
       "      <th>2</th>\n",
       "      <td>152</td>\n",
       "      <td>Shrubland</td>\n",
       "      <td>14766733</td>\n",
       "      <td>11443063.2</td>\n",
       "    </tr>\n",
       "  </tbody>\n",
       "</table>\n",
       "</div>"
      ],
      "text/plain": [
       "   Value           Category     Count     Acreage\n",
       "0    176      Grass/Pasture  32163277  24924024.2\n",
       "1    142   Evergreen Forest  19275611  14937091.0\n",
       "2    152          Shrubland  14766733  11443063.2"
      ]
     },
     "execution_count": 17,
     "metadata": {},
     "output_type": "execute_result"
    }
   ],
   "source": [
    "col_crop_08_df = pd.read_csv('colorado_crop_acreage_data/cdl_2008_08.csv')\n",
    "col_crop_08_df.head(3)"
   ]
  },
  {
   "cell_type": "raw",
   "metadata": {},
   "source": [
    "Okie dokie, so it looks like each of these data files contain: \n",
    "    1. A 'Category' for what crop we're talking about\n",
    "    2. A 'Value' integer corresponding to the specific 'Category'\n",
    "    3. A 'Count' for the number of pixels in the data (CropScape uses Geospatial coordinates, these pixels correspond to the number of pixels in the dataset which directly corresponds to the next value 'Acreage'.\n",
    "    4. An 'Acreage' for the number of acres that 'Category' represents in Colorado for that Year.\n",
    "    \n",
    "    Let's try and use the python module 'Seaborn' to show the column comparison of Category to Acreage and produce a pretty pretty graph!"
   ]
  },
  {
   "cell_type": "code",
   "execution_count": 18,
   "metadata": {},
   "outputs": [
    {
     "data": {
      "text/plain": [
       "<matplotlib.axes._subplots.AxesSubplot at 0x7f665ce23790>"
      ]
     },
     "execution_count": 18,
     "metadata": {},
     "output_type": "execute_result"
    },
    {
     "data": {
      "image/png": "[encoded data removed]",
      "text/plain": [
       "<matplotlib.figure.Figure at 0x7f665ce9bfd0>"
      ]
     },
     "metadata": {},
     "output_type": "display_data"
    }
   ],
   "source": [
    "col_crop_08_df_chart = col_crop_08_df[[' Category', '  Acreage']]\n",
    "sns.barplot(x=' Category', y='  Acreage', data=col_crop_08_df_chart)"
   ]
  },
  {
   "cell_type": "raw",
   "metadata": {},
   "source": [
    "Ok, so 2 problems. \n",
    "\n",
    "    1. 'Category' is actually ' Category', and 'Acreage' is actually '  Acreage'. So need to keep this in mind in the future.\n",
    "    2. A lot of categories so the bar chart looks like garbage water. So we need to select only some, like maybe 8.\n",
    "    \n",
    "So to figure out these 8, let's check out all the categories and logically pick some."
   ]
  },
  {
   "cell_type": "code",
   "execution_count": 19,
   "metadata": {},
   "outputs": [
    {
     "data": {
      "text/plain": [
       "0                   Grass/Pasture\n",
       "1                Evergreen Forest\n",
       "2                       Shrubland\n",
       "3                Deciduous Forest\n",
       "4            Fallow/Idle Cropland\n",
       "5                    Winter Wheat\n",
       "6                            Corn\n",
       "7            Developed/Open Space\n",
       "8                          Barren\n",
       "9                         Alfalfa\n",
       "10        Developed/Low Intensity\n",
       "11                 Woody Wetlands\n",
       "12                   Mixed Forest\n",
       "13                     Open Water\n",
       "14                         Millet\n",
       "15                        Sorghum\n",
       "16     Developed/Medium Intensity\n",
       "17             Perennial Ice/Snow\n",
       "18                     Sunflowers\n",
       "19            Herbaceous Wetlands\n",
       "20                         Barley\n",
       "21                   Spring Wheat\n",
       "22                       Potatoes\n",
       "23       Developed/High Intensity\n",
       "24                      Dry Beans\n",
       "25                           Oats\n",
       "26                     Sugarbeets\n",
       "27             Other Small Grains\n",
       "28                       Soybeans\n",
       "29                     Sweet Corn\n",
       "30                    Durum Wheat\n",
       "31                      Safflower\n",
       "32                 Sod/Grass Seed\n",
       "33                            Rye\n",
       "34                    Other Crops\n",
       "35                         Onions\n",
       "36             Misc Vegs & Fruits\n",
       "37                       Wetlands\n",
       "38                        Peaches\n",
       "39                         Canola\n",
       "40                         Forest\n",
       "41                Pop or Orn Corn\n",
       "42                    Watermelons\n",
       "43                         Speltz\n",
       "44                       Cherries\n",
       "45               Other Tree Crops\n",
       "46                         Apples\n",
       "47          Other Hay/Non Alfalfa\n",
       "Name:  Category, dtype: object"
      ]
     },
     "execution_count": 19,
     "metadata": {},
     "output_type": "execute_result"
    }
   ],
   "source": [
    "col_crop_08_df[' Category']"
   ]
  },
  {
   "cell_type": "raw",
   "metadata": {},
   "source": [
    "Alright, so let's go with Tree crops. It won't be 8, but let's choose: Apples(46), Cherries(44), Peaches(38), and Other Tree Crops(45). That's 4.\n",
    "So let's make a list with our chosen categories by their (index) and grab out those categories."
   ]
  },
  {
   "cell_type": "code",
   "execution_count": 20,
   "metadata": {},
   "outputs": [
    {
     "data": {
      "text/plain": [
       "<matplotlib.axes._subplots.AxesSubplot at 0x7f665ce23850>"
      ]
     },
     "execution_count": 20,
     "metadata": {},
     "output_type": "execute_result"
    },
    {
     "data": {
      "image/png": "[encoded data removed]",
      "text/plain": [
       "<matplotlib.figure.Figure at 0x7f665cd86c50>"
      ]
     },
     "metadata": {},
     "output_type": "display_data"
    }
   ],
   "source": [
    "col_crop_08_df_tree_fruits = col_crop_08_df.loc[[38,44,45,46]]\n",
    "sns.barplot(x=' Category', y='  Acreage', data=col_crop_08_df_tree_fruits)"
   ]
  },
  {
   "cell_type": "raw",
   "metadata": {},
   "source": [
    "Ok, that looks decent. Turns out Peaches dominate the acreage market in Colorado in 2008. So, maybe next we should import the rest of the years, and see how these acreage values fluctuate through the years.\n",
    "\n",
    "To do this, let's grab each year set of data, add a new column for that year set with the year associated with that file in it."
   ]
  },
  {
   "cell_type": "code",
   "execution_count": 35,
   "metadata": {},
   "outputs": [
    {
     "data": {
      "text/plain": [
       "<matplotlib.axes._subplots.AxesSubplot at 0x7f665c84d610>"
      ]
     },
     "execution_count": 35,
     "metadata": {},
     "output_type": "execute_result"
    },
    {
     "data": {
      "image/png": "[encoded data removed]",
      "text/plain": [
       "<matplotlib.figure.Figure at 0x7f665cd3ca10>"
      ]
     },
     "metadata": {},
     "output_type": "display_data"
    }
   ],
   "source": [
    "col_crop_08_df['Year'] = int(2008)\n",
    "col_crop_df = col_crop_08_df.append(pd.read_csv('colorado_crop_acreage_data/cdl_2009_08.csv'))\n",
    "col_crop_df.fillna(int(2009), inplace=True)\n",
    "col_crop_df = col_crop_df.append(pd.read_csv('colorado_crop_acreage_data/cdl_2010_08.csv'))\n",
    "col_crop_df.fillna(int(2010), inplace=True)\n",
    "col_crop_df = col_crop_df.append(pd.read_csv('colorado_crop_acreage_data/cdl_2011_08.csv'))\n",
    "col_crop_df.fillna(int(2011), inplace=True)\n",
    "col_crop_df = col_crop_df.append(pd.read_csv('colorado_crop_acreage_data/cdl_2012_08.csv'))\n",
    "col_crop_df.fillna(int(2012), inplace=True)\n",
    "col_crop_df = col_crop_df.append(pd.read_csv('colorado_crop_acreage_data/cdl_2013_08.csv'))\n",
    "col_crop_df.fillna(int(2013), inplace=True)\n",
    "col_crop_df = col_crop_df.append(pd.read_csv('colorado_crop_acreage_data/cdl_2014_08.csv'))\n",
    "col_crop_df.fillna(int(2014), inplace=True)\n",
    "col_crop_df = col_crop_df.append(pd.read_csv('colorado_crop_acreage_data/cdl_2015_08.csv'))\n",
    "col_crop_df.fillna(int(2015), inplace=True)\n",
    "col_crop_df = col_crop_df.append(pd.read_csv('colorado_crop_acreage_data/cdl_2016_08.csv'))\n",
    "col_crop_df.fillna(int(2016), inplace=True)\n",
    "\n",
    "col_crop_df_tree_crops = col_crop_df[col_crop_df[' Category'] == ' Apples']\n",
    "col_crop_df_tree_crops = col_crop_df_tree_crops.append(col_crop_df[col_crop_df[' Category'] == ' Cherries'])\n",
    "col_crop_df_tree_crops = col_crop_df_tree_crops.append(col_crop_df[col_crop_df[' Category'] == ' Peaches'])\n",
    "col_crop_df_tree_crops = col_crop_df_tree_crops.append(col_crop_df[col_crop_df[' Category'] == ' Other Tree Crops'])\n",
    "\n",
    "sns.barplot(x=' Category', y='  Acreage', hue='Year', hue_order=[2008,2009,2010,2011,2012,2013,2014,2015,2016], data=col_crop_df_tree_crops)"
   ]
  }
 ],
 "metadata": {
  "kernelspec": {
   "display_name": "Python 2",
   "language": "python",
   "name": "python2"
  },
  "language_info": {
   "codemirror_mode": {
    "name": "ipython",
    "version": 2
   },
   "file_extension": ".py",
   "mimetype": "text/x-python",
   "name": "python",
   "nbconvert_exporter": "python",
   "pygments_lexer": "ipython2",
   "version": "2.7.11"
  }
 },
 "nbformat": 4,
 "nbformat_minor": 2
}
